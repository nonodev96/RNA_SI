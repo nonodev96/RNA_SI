{
 "cells": [
  {
   "cell_type": "code",
   "execution_count": 1,
   "metadata": {},
   "outputs": [
    {
     "ename": "ModuleNotFoundError",
     "evalue": "No module named 'pandas'",
     "output_type": "error",
     "traceback": [
      "\u001b[0;31m---------------------------------------------------------------------------\u001b[0m",
      "\u001b[0;31mModuleNotFoundError\u001b[0m                       Traceback (most recent call last)",
      "Cell \u001b[0;32mIn[1], line 1\u001b[0m\n\u001b[0;32m----> 1\u001b[0m \u001b[38;5;28;01mimport\u001b[39;00m \u001b[38;5;21;01mpandas\u001b[39;00m \u001b[38;5;28;01mas\u001b[39;00m \u001b[38;5;21;01mpd\u001b[39;00m\n\u001b[1;32m      2\u001b[0m \u001b[38;5;28;01mfrom\u001b[39;00m \u001b[38;5;21;01mIPython\u001b[39;00m\u001b[38;5;21;01m.\u001b[39;00m\u001b[38;5;21;01mdisplay\u001b[39;00m \u001b[38;5;28;01mimport\u001b[39;00m display, HTML\n\u001b[1;32m      3\u001b[0m \u001b[38;5;28;01mimport\u001b[39;00m \u001b[38;5;21;01mnumpy\u001b[39;00m \u001b[38;5;28;01mas\u001b[39;00m \u001b[38;5;21;01mnp\u001b[39;00m\n",
      "\u001b[0;31mModuleNotFoundError\u001b[0m: No module named 'pandas'"
     ]
    }
   ],
   "source": [
    "import pandas as pd\n",
    "from IPython.display import display, HTML\n",
    "import numpy as np\n",
    "import pandas as pd\n",
    "from itertools import product\n",
    "from PIL import Image\n",
    "import os\n"
   ]
  },
  {
   "cell_type": "code",
   "execution_count": null,
   "metadata": {},
   "outputs": [],
   "source": [
    "CURRENT_PATH = os.path.abspath(os.getcwd())\n",
    "PARENT_DIRECTORY = os.path.dirname(CURRENT_PATH)\n",
    "TFM_PATH = os.path.join(PARENT_DIRECTORY, '')\n",
    "print(TFM_PATH)"
   ]
  },
  {
   "cell_type": "code",
   "execution_count": null,
   "metadata": {},
   "outputs": [],
   "source": [
    "data = {'col1': [1,2], 'col2': [3,4]}\n",
    "df = pd.DataFrame(data)\n",
    "# display(HTML(df.to_html()))\n",
    "print(df)"
   ]
  },
  {
   "cell_type": "code",
   "execution_count": null,
   "metadata": {},
   "outputs": [],
   "source": [
    "def load_image_casia_multi_spectral_palmprintV1(row):\n",
    "    ruta_imagen = (\n",
    "        TFM_PATH\n",
    "        + f\"datasets/CASIA-Multi-Spectral-PalmprintV1/{row['Usuario']}_{row['Mano']}_{row['Banda']}_{row['Foto']}.jpg\"\n",
    "    )\n",
    "    imagen = Image.open(ruta_imagen)\n",
    "    imagen_array = np.array(imagen)\n",
    "    return imagen_array\n",
    "\n",
    "\n",
    "def load_casia_multi_spectral_palmprintV1():\n",
    "    usuarios = [f\"{i:03}\" for i in range(1, 101)]\n",
    "    manos = [\"l\", \"r\"]\n",
    "    bandas = [460, 630, 700, 850, 940, \"WHT\"]\n",
    "    fotos = [f\"{i:02}\" for i in range(1, 7)]\n",
    "    df = pd.DataFrame(\n",
    "        product(usuarios, manos, bandas, fotos),\n",
    "        columns=[\"Usuario\", \"Mano\", \"Banda\", \"Foto\"],\n",
    "    )\n",
    "\n",
    "    df[\"Imagen\"] = df.apply(lambda row: load_image_casia_multi_spectral_palmprintV1(row), axis=1)\n",
    "    display(df.head())\n",
    "\n",
    "\n",
    "load_casia_multi_spectral_palmprintV1()"
   ]
  },
  {
   "cell_type": "code",
   "execution_count": null,
   "metadata": {},
   "outputs": [],
   "source": [
    "\n",
    "def check_file_casia_palmprintV1(row):\n",
    "    return os.path.exists(TFM_PATH + f\"datasets/CASIA-PalmprintV1/{row['Usuario']}/{row['Usuario']}_{row['Mano']}_{row['Genero']}_{row['Foto']}.jpg\"\n",
    "    )\n",
    "    \n",
    "\n",
    "def load_image_casia_palmprintV1(row):\n",
    "    ruta_imagen = TFM_PATH + f\"datasets/CASIA-PalmprintV1/{row['Usuario']}/{row['Usuario']}_{row['Mano']}_{row['Genero']}_{row['Foto']}.jpg\"\n",
    "    imagen = Image.open(ruta_imagen)\n",
    "    imagen_array = np.array(imagen)\n",
    "    return imagen_array\n",
    "\n",
    "\n",
    "def load_casia_palmprintV1():\n",
    "    usuarios = [f\"{i:04}\" for i in range(1, 313)]\n",
    "    genero = [\"m\", \"f\"]\n",
    "    manos = [\"l\", \"r\"]\n",
    "    fotos = [f\"{i:02}\" for i in range(1, 16)]\n",
    "    # Crear el dataframe\n",
    "    df = pd.DataFrame(\n",
    "        product(usuarios, genero, manos, fotos),\n",
    "        columns=[\"Usuario\", \"Mano\", \"Genero\", \"Foto\"],\n",
    "    )\n",
    "    condition = df.apply(lambda row: check_file_casia_palmprintV1(row), axis=1)\n",
    "    df = df[condition]\n",
    "\n",
    "    df[\"Imagen\"] = df.apply(lambda row: load_image_casia_palmprintV1(row), axis=1)\n",
    "    display(df)\n",
    "\n",
    "load_casia_palmprintV1()\n"
   ]
  },
  {
   "cell_type": "code",
   "execution_count": null,
   "metadata": {},
   "outputs": [],
   "source": [
    "from PIL import Image\n",
    "import matplotlib.pyplot as plt\n",
    "\n",
    "%matplotlib inline\n",
    "\n",
    "img = Image.open(TFM_PATH + \"datasets/CASIA-Multi-Spectral-PalmprintV1/001_l_460_01.jpg\")\n",
    "plt.imshow(img,cmap='jet')"
   ]
  },
  {
   "cell_type": "code",
   "execution_count": null,
   "metadata": {},
   "outputs": [],
   "source": [
    "import torch\n",
    "from torch import nn\n",
    "\n",
    "m = nn.Bilinear(20, 30, 40)\n",
    "input1 = torch.randn(128, 20)\n",
    "input2 = torch.randn(128, 30)\n",
    "output = m(input1, input2)\n",
    "output"
   ]
  },
  {
   "cell_type": "code",
   "execution_count": null,
   "metadata": {},
   "outputs": [],
   "source": [
    "import torch\n",
    "import matplotlib.pyplot as plt\n",
    "import numpy as np\n",
    "\n",
    "# Crear un tensor\n",
    "tensor = torch.tensor([[1, 2, 3], [4, 5, 6]])\n",
    "\n",
    "# Convertir a NumPy\n",
    "numpy_array = tensor.numpy()\n",
    "\n",
    "# Visualizar usando Matplotlib\n",
    "plt.imshow(numpy_array, cmap='viridis')\n",
    "plt.colorbar()\n",
    "plt.show()"
   ]
  },
  {
   "cell_type": "code",
   "execution_count": null,
   "metadata": {},
   "outputs": [],
   "source": [
    "import matplotlib.pyplot as plt\n",
    "def show_images(images) -> None:\n",
    "    n: int = len(images)\n",
    "    f = plt.figure()\n",
    "    for i in range(n):\n",
    "        # Debug, plot figure\n",
    "        f.add_subplot(1, n, i + 1)\n",
    "        plt.title(images[i].get('title'))\n",
    "        plt.imshow(images[i].get('data'))\n",
    "\n",
    "    plt.show(block=True)\n"
   ]
  },
  {
   "cell_type": "code",
   "execution_count": null,
   "metadata": {},
   "outputs": [],
   "source": [
    "import torch\n",
    "from torch import nn\n",
    "\n",
    "m = nn.Bilinear(20, 30, 40)\n",
    "input1 = torch.randn(128, 20)\n",
    "input2 = torch.randn(128, 30)\n",
    "output = m(input1, input2)\n",
    "\n",
    "out_img = output.detach().numpy()\n",
    "out_img_arr = np.squeeze(out_img)\n",
    "\n",
    "show_images(\n",
    "    [\n",
    "        {\"title\": \"numpy\", \"data\": out_img},\n",
    "        {\"title\": \"squeeze\", \"data\": out_img_arr},\n",
    "    ]\n",
    ")"
   ]
  },
  {
   "cell_type": "code",
   "execution_count": null,
   "metadata": {},
   "outputs": [],
   "source": [
    "import torchshow as ts\n",
    "import torch\n",
    "from torch import nn\n",
    "\n",
    "m = nn.Bilinear(20, 30, 40)\n",
    "input1 = torch.randn(128, 20)\n",
    "input2 = torch.randn(128, 30)\n",
    "output = m(input1, input2)\n",
    "\n",
    "ts.set_color_mode('rgb')\n",
    "ts.show(output,  unnormalize='imagenet')"
   ]
  }
 ],
 "metadata": {
  "kernelspec": {
   "display_name": ".venv",
   "language": "python",
   "name": "python3"
  },
  "language_info": {
   "codemirror_mode": {
    "name": "ipython",
    "version": 3
   },
   "file_extension": ".py",
   "mimetype": "text/x-python",
   "name": "python",
   "nbconvert_exporter": "python",
   "pygments_lexer": "ipython3",
   "version": "3.10.12"
  }
 },
 "nbformat": 4,
 "nbformat_minor": 2
}
