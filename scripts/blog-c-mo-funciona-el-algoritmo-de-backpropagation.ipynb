{
    "cells": [
        {
            "cell_type": "markdown",
            "metadata": {
                "colab_type": "text",
                "id": "view-in-github"
            },
            "source": [
                "<a href=\"https://colab.research.google.com/gist/daviddiazsolis/cc842982fd6f84d72f8a8dcecedb90c6/blog-c-mo-funciona-el-algoritmo-de-backpropagation.ipynb\" target=\"_parent\"><img src=\"https://colab.research.google.com/assets/colab-badge.svg\" alt=\"Open In Colab\"/></a>"
            ]
        },
        {
            "cell_type": "markdown",
            "metadata": {
                "colab_type": "text",
                "id": "Ovxm6yeglABg"
            },
            "source": [
                "# ¿CÓMO FUNCIONA EL ALGORITMO DE BACKPROPAGATION?\n",
                "por David Díaz S. Ph.D.\n",
                "Traducción y adaptación desde: https://mattmazur.com/2015/03/17/a-step-by-step-backpropagation-example/\n",
                "\n",
                "En este blog discutiremos paso a paso cómo funciona el algoritmo de retropropagación hacia atrás, que es una pieza fundamental de las Redes Neuronales Artificiales y muchas veces es considerado un \"misterio\".\n",
                "\n",
                "Está desarrollado en \"seudo código\", es decir, se explica como si estuvieramos con \"papel y lápiz\" desarrollando los cálculos. En un próximo blog discutiremos cómo implementarlo en Python usando Numpy.\n",
                "\n",
                "De manera fundamental, el algoritmo actualizará los parámetros de la red retropropagando el error hacia las capas interiores de la misma. Este proceso se realiza \"de derecha a izquierda\", es decir, se parte primero estimando el efecto que los parámetros de las capas más cerca de la salida tienen en el output de la red, y con esa información se comienza a estimar progresivamente el efecto de los parámetros de las capas ocultas hasta llegar a las capas de entrada.\n",
                "\n",
                "Para poder entender su funcionamiento, se recomienda tener conocimientos básicos de cálculo diferencial, esencialmente, de la regla de la cadena. \n",
                "\n",
                "A continuación, discutimos en detalle este algoritmo."
            ]
        },
        {
            "cell_type": "markdown",
            "metadata": {
                "colab_type": "text",
                "id": "rhf3Sl7N-eYX"
            },
            "source": [
                "## 1. Definiendo la Arquitectura de la Red,\n",
                "### Supongamos una red simple con dos inputs i1 e i2, con una capa oculta con dos neuronas h1 y h2, y dos neuronas en la capa de salida o1 y o2:"
            ]
        },
        {
            "cell_type": "markdown",
            "metadata": {
                "colab_type": "text",
                "id": "sPssTFmHNSHx"
            },
            "source": [
                "![texto alternativo](https://matthewmazur.files.wordpress.com/2018/03/neural_network-7.png) Figura 1"
            ]
        },
        {
            "cell_type": "markdown",
            "metadata": {
                "colab_type": "text",
                "id": "mtbshyH6-vDu"
            },
            "source": [
                "### En esta red, tanto las neuronas de la capa oculta, h1 y h2, y las de la capa de salida, o1 y o2 están siendo \"activadas\" ocupando la función logística (también conocida como sigmoide):\n",
                "\n",
                "![texto alternativo](https://s0.wp.com/latex.php?latex=out_%7Bo1%7D+%3D+%5Cfrac%7B1%7D%7B1%2Be%5E%7B-net_%7Bo1%7D%7D%7D&bg=ffffff&fg=404040&s=0&zoom=2) \n",
                "Ecuacion (1)\n",
                "\n",
                "\n",
                "### Supongamos ahora que queremos entrenar nuestra red con los siguientes valores:\n",
                "\n",
                "### cuando el input es i1= 0.05 queremos que nuestra salida sea o1=0.01 y\n",
                "### cuando el input es i2= 0.1 queremos que nuestra salida sea o2=0.99\n",
                "\n"
            ]
        },
        {
            "cell_type": "markdown",
            "metadata": {
                "colab_type": "text",
                "id": "42yz6_CJ_wm-"
            },
            "source": [
                "### En nuestra primera iteración inicializaremos los parámetros de la red aleatoriamente. Supongamos que obtenemos los siguientes valores para nuestros coeficientes w y b:\n",
                "\n",
                "b1=0.35\n",
                "b2=0.6\n",
                "\n",
                "w1=0.15\n",
                "w2=0.2\n",
                "w3=0.25\n",
                "w4=0.3\n",
                "w5=0.4\n",
                "w6=0.45\n",
                "w7=0.5\n",
                "w8=0.55\n",
                "\n",
                "visualmente:"
            ]
        },
        {
            "cell_type": "markdown",
            "metadata": {
                "colab_type": "text",
                "id": "uRvdiwiFNpoj"
            },
            "source": [
                "![texto alternativo](https://matthewmazur.files.wordpress.com/2018/03/neural_network-9.png) Figura 2"
            ]
        },
        {
            "cell_type": "code",
            "execution_count": 1,
            "metadata": {
                "colab": {},
                "colab_type": "code",
                "id": "1dPyRLYGNLsm"
            },
            "outputs": [],
            "source": [
                "#podemos escribir esto en código de python\n",
                "\n",
                "\n",
                "# los inputs estan dados\n",
                "i1=0.05\n",
                "i2=0.1\n",
                "\n",
                "# los outputs estan dados\n",
                "o1=0.01\n",
                "o2=0.99\n",
                "\n",
                "# iniciamos los parámetros w y b aleatoriamente y obtenemos estos resultados:\n",
                "b1=0.35\n",
                "b2=0.6\n",
                "\n",
                "w1=0.15\n",
                "w2=0.2\n",
                "w3=0.25\n",
                "w4=0.3\n",
                "w5=0.4\n",
                "w6=0.45\n",
                "w7=0.5\n",
                "w8=0.55\n",
                "\n",
                "# por supuesto en un código real tendriamos que inicializar los parámetros con algúna función aleatoria, por ejemplo, w_i=numpy.random.randn() o similar"
            ]
        },
        {
            "cell_type": "markdown",
            "metadata": {
                "colab_type": "text",
                "id": "lsEG-raypnK8"
            },
            "source": [
                "## 2. FORWARD PASS\n",
                "#### Como ya contamos con los pesos aleatorios iniciales, podemos hacer los cálculos correspondientes. Esto se conoce como \"forward pass\", o \"feed forward\" porque haremos entrar los inputs a la red, \"de izquierda hacia la derecha\", realizando todos los cálculos hasta obtener nuestra primera estimación de las salidas de la red o1 y o2:"
            ]
        },
        {
            "cell_type": "code",
            "execution_count": 2,
            "metadata": {
                "colab": {
                    "base_uri": "https://localhost:8080/",
                    "height": 50
                },
                "colab_type": "code",
                "id": "WrDRdkfpOk2m",
                "outputId": "e8d98e9d-b8f7-455f-c021-851fc1e5c992"
            },
            "outputs": [
                {
                    "name": "stdout",
                    "output_type": "stream",
                    "text": [
                        "net_h1=0.3775\n",
                        "net_h2=0.39249999999999996\n"
                    ]
                }
            ],
            "source": [
                "# Propagando los datos hacia adelante ->\n",
                "\n",
                "# Calculamos los valores netos de la neuronas de la capa oculta (netos, es decir, antes de aplicarles la función de activación logística)\n",
                "# podemos ver que es solo una suma ponderada de los inputs a los que se les suma un término constante o \"bias\":\n",
                "\n",
                "net_h1=i1*w1+i2*w2+b1\n",
                "net_h2=i1*w3+i2*w4+b1\n",
                "\n",
                "print('net_h1='+ str(net_h1))\n",
                "print('net_h2='+str(net_h2))"
            ]
        },
        {
            "cell_type": "code",
            "execution_count": 3,
            "metadata": {
                "colab": {
                    "base_uri": "https://localhost:8080/",
                    "height": 50
                },
                "colab_type": "code",
                "id": "wvnb9kXoPF2K",
                "outputId": "084023ec-9253-43b3-e38a-2b4531e7ecfe"
            },
            "outputs": [
                {
                    "name": "stdout",
                    "output_type": "stream",
                    "text": [
                        "out_h1=0.5932699921071872\n",
                        "out_h2=0.596884378259767\n"
                    ]
                }
            ],
            "source": [
                "# Para calcular los valores finales o \"output\" de la neuronas, necesitamos aplicar la función de activación logística (u otra).\n",
                "\n",
                "# primero la definimos ocupando la Ecuación 1:\n",
                "import numpy as np\n",
                "def logistic_func(net):\n",
                "  out=1/(1+np.exp(-net))\n",
                "  return out\n",
                "\n",
                "# ahora la aplico a cada una de las neuronas de la capa oculta\n",
                "\n",
                "out_h1=logistic_func(net_h1)\n",
                "out_h2=logistic_func(net_h2)\n",
                "\n",
                "print('out_h1='+ str(out_h1))\n",
                "print('out_h2='+ str(out_h2))\n"
            ]
        },
        {
            "cell_type": "markdown",
            "metadata": {
                "colab_type": "text",
                "id": "IUo7uEa9C8eb"
            },
            "source": [
                "### Dado que ya hemos calculado los valores de la capa oculta, podemos proceder a calcular los valores de las neuronas de la capa de salida:"
            ]
        },
        {
            "cell_type": "code",
            "execution_count": 4,
            "metadata": {
                "colab": {
                    "base_uri": "https://localhost:8080/",
                    "height": 50
                },
                "colab_type": "code",
                "id": "9KgX4CMfQwV2",
                "outputId": "421ab9d7-5eac-435e-d21e-b12e86337cc4"
            },
            "outputs": [
                {
                    "name": "stdout",
                    "output_type": "stream",
                    "text": [
                        "net_o1=1.10590596705977\n",
                        "net_o2=1.2249214040964653\n"
                    ]
                }
            ],
            "source": [
                "# primero calculamos el valor neto ocupando los pesos respectivos. notar que el input de las neuronas de la capa de salida o1 y o2, \n",
                "#es el output de las neuronas de la capa oculta\n",
                "\n",
                "net_o1=out_h1*w5+out_h2*w6+b2\n",
                "net_o2=out_h1*w7+out_h2*w8+b2\n",
                "\n",
                "print('net_o1='+ str(net_o1))\n",
                "print('net_o2='+ str(net_o2))"
            ]
        },
        {
            "cell_type": "code",
            "execution_count": 5,
            "metadata": {
                "colab": {
                    "base_uri": "https://localhost:8080/",
                    "height": 50
                },
                "colab_type": "code",
                "id": "Hz02uhaKDSaq",
                "outputId": "1d75cc82-07ed-44a7-f4d5-9640ce3eee83"
            },
            "outputs": [
                {
                    "name": "stdout",
                    "output_type": "stream",
                    "text": [
                        "out_o1=0.7513650695523157\n",
                        "out_o2=0.7729284653214625\n"
                    ]
                }
            ],
            "source": [
                "# nuevamente, a estos valores netos le aplicamos la función de activación Ecuación 1.\n",
                "out_o1=logistic_func(net_o1)\n",
                "out_o2=logistic_func(net_o2)\n",
                "\n",
                "print('out_o1='+ str(out_o1))\n",
                "print('out_o2='+ str(out_o2))"
            ]
        },
        {
            "cell_type": "markdown",
            "metadata": {
                "colab_type": "text",
                "id": "qv9b-R4VDfPW"
            },
            "source": [
                "### Ya contamos con nuestra primera estimación para o1 y o2. Podemos comparar estos valores con respecto a los valores que deseamos la red aprenda a replicar i1 y i2. La diferencia entre ellos es el \"error\" de nuestra red:"
            ]
        },
        {
            "cell_type": "code",
            "execution_count": 6,
            "metadata": {
                "colab": {
                    "base_uri": "https://localhost:8080/",
                    "height": 34
                },
                "colab_type": "code",
                "id": "l8EQN5pRDetg",
                "outputId": "41016947-c26f-414b-f6d5-f1cf23ab66f7"
            },
            "outputs": [
                {
                    "name": "stdout",
                    "output_type": "stream",
                    "text": [
                        "0.7413650695523157 -0.21707153467853746\n"
                    ]
                }
            ],
            "source": [
                "# Calculamos los errores\n",
                "\n",
                "e1=out_o1-o1\n",
                "e2=out_o2-o2\n",
                "\n",
                "print(e1,e2)"
            ]
        },
        {
            "cell_type": "markdown",
            "metadata": {
                "colab_type": "text",
                "id": "6O2KyYrCEnGA"
            },
            "source": [
                "### Podemos observar que los valores predichos out_o1 y out_o2 están lejos de los valores buscados o1 y o2, por lo tanto, los errores son bastante grandes. Esto se debe a que los parámetros w y b que escogimos obviamente todavía no han sido optimizados.\n",
                "### Para medir qué tan lejos estamos de los valores deseados, ocupamos una métrica o medida de ajuste, también conocida como función de costo o función de pérdida (en inglés Cost function o Loss Function). \n",
                "### Existen muchas, pero en este ejemplo implementaremos una de las más utilizadas: el Error Cuadrático o Squared Error.\n",
                "### Se calcula simplemente como la diferencia al cuadrado, a veces multiplicada por una constante, en este caso 1/2, para facilitar algunas derivadas que ocuparemos más adelante en el proceso de optimización.\n",
                "\n",
                "![texto alternativo](https://s0.wp.com/latex.php?latex=E_%7Btotal%7D+%3D+%5Csum+%5Cfrac%7B1%7D%7B2%7D%28target+-+output%29%5E%7B2%7D&bg=ffffff&fg=404040&s=0&zoom=2)\n",
                " Ecuación 2\n",
                "\n"
            ]
        },
        {
            "cell_type": "code",
            "execution_count": 7,
            "metadata": {
                "colab": {
                    "base_uri": "https://localhost:8080/",
                    "height": 34
                },
                "colab_type": "code",
                "id": "ADu3KeAtFvrU",
                "outputId": "1556224a-55f1-4f4f-c305-3bca819ee4bc"
            },
            "outputs": [
                {
                    "name": "stdout",
                    "output_type": "stream",
                    "text": [
                        "0.274811083176155 0.023560025583847746\n"
                    ]
                }
            ],
            "source": [
                "loss_e1=0.5*(e1**2)\n",
                "loss_e2=0.5*(e2**2)\n",
                "\n",
                "print(loss_e1,loss_e2)"
            ]
        },
        {
            "cell_type": "markdown",
            "metadata": {
                "colab_type": "text",
                "id": "qKAMB8V7Fyp7"
            },
            "source": [
                "### luego el error total de la red será simplemente la suma total de los errores al cuadrado cometidos en cada predicción.\n",
                "![texto alternativo](https://s0.wp.com/latex.php?latex=E_%7Btotal%7D+%3D+E_%7Bo1%7D+%2B+E_%7Bo2%7D+%3D+0.274811083+%2B+0.023560026+%3D+0.298371109&bg=ffffff&fg=404040&s=0&zoom=2)"
            ]
        },
        {
            "cell_type": "code",
            "execution_count": 8,
            "metadata": {
                "colab": {
                    "base_uri": "https://localhost:8080/",
                    "height": 34
                },
                "colab_type": "code",
                "id": "38wuhSKrVFZs",
                "outputId": "b10a4125-dd77-4cb9-9cc3-16fde85d216d"
            },
            "outputs": [
                {
                    "name": "stdout",
                    "output_type": "stream",
                    "text": [
                        "0.2983711087600027\n"
                    ]
                }
            ],
            "source": [
                "total_error=loss_e1+loss_e2\n",
                "print(total_error)"
            ]
        },
        {
            "cell_type": "markdown",
            "metadata": {
                "colab_type": "text",
                "id": "hvNSMg06WXPL"
            },
            "source": [
                "## 3. BACKWARD PASS. Optimizando los parámetros w y b de la red\n",
                "\n",
                "### Sabemos que los parámetros w y b escogidos inicialmente no son óptimos, por lo que ahora queremos optimizarlos.\n",
                "### Para ello ocuparemos la técnica de gradiente descendiente. La idea es intentar estimar el efecto que cada uno de los parámetros de la red tiene sobre el error total de la misma. Si conocemos, por ejemplo, que incrementar el valor de w5 reducirá el error total, entonces, en la próxima iteración querremos ocupar un valor w5_actualizado>w5_anterior.\n",
                "\n",
                "### Dado que la red tiene muchas capas y muchas neuronas en cada capa, el procedimiento a seguir consiste en ir preguntándonos cómo afecta cada uno de los parámetros de manera \"encadenada\", es decir, iremos recorriendo la red desde la salida hacia la entrada, o, de derecha hacia la izquierda, e iremos viendo el efecto conjunto de cada sub-parte.\n",
                "\n"
            ]
        },
        {
            "cell_type": "markdown",
            "metadata": {
                "colab_type": "text",
                "id": "jZc4_Xg7H-mj"
            },
            "source": [
                "## 3.1 Efecto de los parámetros de la capa de salida en el Error Total\n",
                "\n",
                "### Primero entonces, estimaremos el efecto de los parámetros w5, w6, w7, w8 en las neuronas de la capa de salida de la red, o1 y o2, y por consecuente, en los errores respectivos e1 y e2, y así en el error total.\n",
                "\n",
                "### Por ejemplo, ¿comencemos preguntándonos cúanto cambia el error total cuando cambia el parámetro w5?\n",
                "\n",
                "### Para contestar esta pregunta observe la Figura 3\n"
            ]
        },
        {
            "cell_type": "markdown",
            "metadata": {
                "colab_type": "text",
                "id": "gegaOvQDV0-C"
            },
            "source": [
                "![texto alternativo](https://matthewmazur.files.wordpress.com/2018/03/output_1_backprop-4.png) Figura 3"
            ]
        },
        {
            "cell_type": "markdown",
            "metadata": {
                "colab_type": "text",
                "id": "G1ySRkTVJYNI"
            },
            "source": [
                "### Vemos que se produce una \"cadena\", dado que el error total depende del valor Eo1 y Eo2, y estos del output de las neuronas o1 y o2.\n",
                "### A su vez, el valor ouput de o1, depende del valor neto de o1 y este finalmente de w5 y del valor de salida output de h1.  \n",
                "### Como el E_o2, no depende de w5 ni directa, ni indirectamente lo podemos omitir.\n",
                "\n",
                "### Podemos expresar esta relación matemáticamente como una derivada parcial:\n",
                "\n",
                "![texto alternativo](https://s0.wp.com/latex.php?latex=%5Cfrac%7B%5Cpartial+E_%7Btotal%7D%7D%7B%5Cpartial+w_%7B5%7D%7D+%3D+%5Cfrac%7B%5Cpartial+E_%7Btotal%7D%7D%7B%5Cpartial+out_%7Bo1%7D%7D+%2A+%5Cfrac%7B%5Cpartial+out_%7Bo1%7D%7D%7B%5Cpartial+net_%7Bo1%7D%7D+%2A+%5Cfrac%7B%5Cpartial+net_%7Bo1%7D%7D%7B%5Cpartial+w_%7B5%7D%7D&bg=ffffff&fg=404040&s=2&zoom=2) Ecuación 3\n",
                "\n",
                "### Note que la derivada de la Ecuación 3 sólo nos muestra cómo el resultado de la red se ve afectado por un sólo parámetro (w5) de la capa oculta. Dado que la red contiene muchos parámetros, al conjunto de derivadas que representan cómo se afectan cada uno de los w y b se conoce como \"Gradiente\".\n",
                "\n",
                "### Note además que el efecto de w5 en el error total (Ecuación 3), puede ser descompuesto en los componentes de la \"cadena\" mencionada cuando discutimos la Figura 3. Veamos ahora como podemos estimar cada uno de los estos componentes."
            ]
        },
        {
            "cell_type": "markdown",
            "metadata": {
                "colab_type": "text",
                "id": "jsHXmMhNY6uU"
            },
            "source": [
                "### 3.1.1 Componente 1: cómo cambia el error total cuando cambia el out o1\n",
                "\n",
                "### Para estimar este efecto, necesitamos derivar el error total definido en la Ecuación 2, con respecto al output de la neurona o1. Derivando obtenemos:"
            ]
        },
        {
            "cell_type": "markdown",
            "metadata": {
                "colab_type": "text",
                "id": "oocCnZ66XD4X"
            },
            "source": [
                "![texto alternativo](https://s0.wp.com/latex.php?latex=E_%7Btotal%7D+%3D+%5Cfrac%7B1%7D%7B2%7D%28target_%7Bo1%7D+-+out_%7Bo1%7D%29%5E%7B2%7D+%2B+%5Cfrac%7B1%7D%7B2%7D%28target_%7Bo2%7D+-+out_%7Bo2%7D%29%5E%7B2%7D&bg=ffffff&fg=404040&s=0&zoom=2)"
            ]
        },
        {
            "cell_type": "markdown",
            "metadata": {
                "colab_type": "text",
                "id": "nkWTYgpFXG8v"
            },
            "source": [
                "![texto alternativo](https://s0.wp.com/latex.php?latex=%5Cfrac%7B%5Cpartial+E_%7Btotal%7D%7D%7B%5Cpartial+out_%7Bo1%7D%7D+%3D+2+%2A+%5Cfrac%7B1%7D%7B2%7D%28target_%7Bo1%7D+-+out_%7Bo1%7D%29%5E%7B2+-+1%7D+%2A+-1+%2B+0&bg=ffffff&fg=404040&s=0&zoom=2) Ecuación 4"
            ]
        },
        {
            "cell_type": "markdown",
            "metadata": {
                "colab_type": "text",
                "id": "WtQ5JLPaNdNd"
            },
            "source": [
                "### Dado que conocemos el valor de o1 (target) y el valor de salida estimado por la red (out_o1) podemos calcular este efecto:"
            ]
        },
        {
            "cell_type": "markdown",
            "metadata": {
                "colab_type": "text",
                "id": "k43AD5AmXLvy"
            },
            "source": [
                "![texto alternativo](https://s0.wp.com/latex.php?latex=%5Cfrac%7B%5Cpartial+E_%7Btotal%7D%7D%7B%5Cpartial+out_%7Bo1%7D%7D+%3D+-%28target_%7Bo1%7D+-+out_%7Bo1%7D%29+%3D+-%280.01+-+0.75136507%29+%3D+0.74136507&bg=ffffff&fg=404040&s=0&zoom=2)"
            ]
        },
        {
            "cell_type": "code",
            "execution_count": 9,
            "metadata": {
                "colab": {
                    "base_uri": "https://localhost:8080/",
                    "height": 34
                },
                "colab_type": "code",
                "id": "qa6Dr5-SWWuj",
                "outputId": "79a8d6e5-9434-48b5-8880-45ffaa34e13d"
            },
            "outputs": [
                {
                    "name": "stdout",
                    "output_type": "stream",
                    "text": [
                        "0.7413650695523157\n"
                    ]
                }
            ],
            "source": [
                "# numéricamente:\n",
                "\n",
                "delta_e_wr_delta_out_o1=-(o1-out_o1)\n",
                "print(delta_e_wr_delta_out_o1)"
            ]
        },
        {
            "cell_type": "markdown",
            "metadata": {
                "colab_type": "text",
                "id": "Mv0WbVKQYK95"
            },
            "source": [
                "### notar que el resultado es simplemente el Error 01!"
            ]
        },
        {
            "cell_type": "code",
            "execution_count": 10,
            "metadata": {
                "colab": {
                    "base_uri": "https://localhost:8080/",
                    "height": 34
                },
                "colab_type": "code",
                "id": "0tx5hqZIYdEy",
                "outputId": "9042b67b-7574-4c33-8a5b-bb49796008df"
            },
            "outputs": [
                {
                    "name": "stdout",
                    "output_type": "stream",
                    "text": [
                        "0.7413650695523157\n"
                    ]
                }
            ],
            "source": [
                "print(e1)"
            ]
        },
        {
            "cell_type": "markdown",
            "metadata": {
                "colab_type": "text",
                "id": "v3iqDQVzaP8l"
            },
            "source": [
                "### 3.1.2 Componente 2: ¿Cómo cambia el output de la neurona de salida 1 con respecto al valor de su input?\n",
                "### es equivalente a encontrar la derivada de la función de activación, en este caso logística, con respecto a su input. Recordando la Ecuación 1:"
            ]
        },
        {
            "cell_type": "markdown",
            "metadata": {
                "colab_type": "text",
                "id": "FpJYM2MwZUHc"
            },
            "source": [
                "![texto alternativo](https://s0.wp.com/latex.php?latex=out_%7Bo1%7D+%3D+%5Cfrac%7B1%7D%7B1%2Be%5E%7B-net_%7Bo1%7D%7D%7D&bg=ffffff&fg=404040&s=0&zoom=2)"
            ]
        },
        {
            "cell_type": "markdown",
            "metadata": {
                "colab_type": "text",
                "id": "1QRCo8j0YFCA"
            },
            "source": [
                "![texto alternativo](https://wikimedia.org/api/rest_v1/media/math/render/svg/1bb35c81bc043a65aef427a578c207f847472547) función logística o sigmoide"
            ]
        },
        {
            "cell_type": "markdown",
            "metadata": {
                "colab_type": "text",
                "id": "km9xqgRqO2oF"
            },
            "source": [
                "### Su derivada respecto a su input es:"
            ]
        },
        {
            "cell_type": "markdown",
            "metadata": {
                "colab_type": "text",
                "id": "381KpmG-ZmjZ"
            },
            "source": [
                "![texto alternativo](https://wikimedia.org/api/rest_v1/media/math/render/svg/c715ad94a83af2bbcc5eacc1ad48508e419dba96) Ecuación 5"
            ]
        },
        {
            "cell_type": "markdown",
            "metadata": {
                "colab_type": "text",
                "id": "RbFOsN4Ma4Bk"
            },
            "source": [
                "![texto alternativo](https://s0.wp.com/latex.php?latex=%5Cfrac%7B%5Cpartial+out_%7Bo1%7D%7D%7B%5Cpartial+net_%7Bo1%7D%7D+%3D+out_%7Bo1%7D%281+-+out_%7Bo1%7D%29+%3D+0.75136507%281+-+0.75136507%29+%3D+0.186815602&bg=ffffff&fg=404040&s=0&zoom=2)"
            ]
        },
        {
            "cell_type": "code",
            "execution_count": 11,
            "metadata": {
                "colab": {
                    "base_uri": "https://localhost:8080/",
                    "height": 34
                },
                "colab_type": "code",
                "id": "eVFlJPX_YEpw",
                "outputId": "38cb0a16-051b-42c3-e045-904531bc397f"
            },
            "outputs": [
                {
                    "name": "stdout",
                    "output_type": "stream",
                    "text": [
                        "0.18681560180895948\n"
                    ]
                }
            ],
            "source": [
                "#por lo tanto:\n",
                "\n",
                "delta_o1_wr_net_o1=out_o1*(1-out_o1)\n",
                "print(delta_o1_wr_net_o1)"
            ]
        },
        {
            "cell_type": "markdown",
            "metadata": {
                "colab_type": "text",
                "id": "yXmhNIA_bD7Y"
            },
            "source": [
                "### 3.1.3 Componente 3: ¿cómo cambia el valor neto de la neurona o1 cuando cambia w5? \n",
                "### es simplemente el valor de la neurona h1\n",
                "![texto alternativo](https://s0.wp.com/latex.php?latex=net_%7Bo1%7D+%3D+w_5+%2A+out_%7Bh1%7D+%2B+w_6+%2A+out_%7Bh2%7D+%2B+b_2+%2A+1&bg=ffffff&fg=404040&s=0&zoom=2)\n",
                "\n",
                "![texto alternativo](https://s0.wp.com/latex.php?latex=%5Cfrac%7B%5Cpartial+net_%7Bo1%7D%7D%7B%5Cpartial+w_%7B5%7D%7D+%3D+1+%2A+out_%7Bh1%7D+%2A+w_5%5E%7B%281+-+1%29%7D+%2B+0+%2B+0+%3D+out_%7Bh1%7D+%3D+0.593269992&bg=ffffff&fg=404040&s=0&zoom=2) Ecuación 6"
            ]
        },
        {
            "cell_type": "code",
            "execution_count": 12,
            "metadata": {
                "colab": {
                    "base_uri": "https://localhost:8080/",
                    "height": 34
                },
                "colab_type": "code",
                "id": "w-WEBpZNbDWz",
                "outputId": "694b3e00-6e70-443b-9534-5735fdcf3535"
            },
            "outputs": [
                {
                    "name": "stdout",
                    "output_type": "stream",
                    "text": [
                        "0.5932699921071872\n"
                    ]
                }
            ],
            "source": [
                "#numericamente:\n",
                "\n",
                "delta_net_o1_wr_w5=out_h1\n",
                "print(delta_net_o1_wr_w5)"
            ]
        },
        {
            "cell_type": "markdown",
            "metadata": {
                "colab_type": "text",
                "id": "283fszWscCTr"
            },
            "source": [
                "### 3.1.4 Finalmente puedo obtener el resultado de la pregunta original: \n",
                "### ¿Cúanto cambia el Error Total cuando cambia el parámetro w5?:"
            ]
        },
        {
            "cell_type": "markdown",
            "metadata": {
                "colab_type": "text",
                "id": "2w4mDekFcQgR"
            },
            "source": [
                "Recordando:\n",
                "![texto alternativo](https://s0.wp.com/latex.php?latex=%5Cfrac%7B%5Cpartial+E_%7Btotal%7D%7D%7B%5Cpartial+w_%7B5%7D%7D+%3D+%5Cfrac%7B%5Cpartial+E_%7Btotal%7D%7D%7B%5Cpartial+out_%7Bo1%7D%7D+%2A+%5Cfrac%7B%5Cpartial+out_%7Bo1%7D%7D%7B%5Cpartial+net_%7Bo1%7D%7D+%2A+%5Cfrac%7B%5Cpartial+net_%7Bo1%7D%7D%7B%5Cpartial+w_%7B5%7D%7D&bg=ffffff&fg=404040&s=2&zoom=2) Ecuación 3"
            ]
        },
        {
            "cell_type": "code",
            "execution_count": 13,
            "metadata": {
                "colab": {
                    "base_uri": "https://localhost:8080/",
                    "height": 34
                },
                "colab_type": "code",
                "id": "JibJgiyJcZwq",
                "outputId": "3b0ea066-48a6-4507-a1f9-a1a22febdc11"
            },
            "outputs": [
                {
                    "name": "stdout",
                    "output_type": "stream",
                    "text": [
                        "0.08216704056423078\n"
                    ]
                }
            ],
            "source": [
                "delta_e_total_wr_w5=delta_e_wr_delta_out_o1*delta_o1_wr_net_o1*delta_net_o1_wr_w5\n",
                "print(delta_e_total_wr_w5)"
            ]
        },
        {
            "cell_type": "code",
            "execution_count": 14,
            "metadata": {
                "colab": {
                    "base_uri": "https://localhost:8080/",
                    "height": 34
                },
                "colab_type": "code",
                "id": "WZ72efFecqji",
                "outputId": "a49af635-2823-44c4-a121-04e3398c9ef1"
            },
            "outputs": [
                {
                    "data": {
                        "text/plain": [
                            "0.08216704056423077"
                        ]
                    },
                    "execution_count": 14,
                    "metadata": {},
                    "output_type": "execute_result"
                }
            ],
            "source": [
                "## o equivalentemente\n",
                "e1*out_o1*(1-out_o1)*out_h1\n"
            ]
        },
        {
            "cell_type": "markdown",
            "metadata": {
                "colab_type": "text",
                "id": "njW0j7EPc1_l"
            },
            "source": [
                "### Esta ecuación también se conoce como \"delta rule\":\n",
                "![texto alternativo](https://s0.wp.com/latex.php?latex=%5Cfrac%7B%5Cpartial+E_%7Btotal%7D%7D%7B%5Cpartial+w_%7B5%7D%7D+%3D+-%28target_%7Bo1%7D+-+out_%7Bo1%7D%29+%2A+out_%7Bo1%7D%281+-+out_%7Bo1%7D%29+%2A+out_%7Bh1%7D&bg=D5E9F6&fg=404040&s=0&zoom=2) Ecuación 7."
            ]
        },
        {
            "cell_type": "markdown",
            "metadata": {
                "colab_type": "text",
                "id": "tjQhFcyHdLY_"
            },
            "source": [
                "### Podemos replicar el proceso o ocupar la delta rule para obtener las derivadas de los parámetros faltantes, w6, w7, w8:"
            ]
        },
        {
            "cell_type": "code",
            "execution_count": 15,
            "metadata": {
                "colab": {
                    "base_uri": "https://localhost:8080/",
                    "height": 34
                },
                "colab_type": "code",
                "id": "09RY-9bHdUo1",
                "outputId": "e9f95546-c544-40aa-a621-b30c1f82fd51"
            },
            "outputs": [
                {
                    "name": "stdout",
                    "output_type": "stream",
                    "text": [
                        "0.08266762784753325 -0.02260254047747507 -0.022740242215978222\n"
                    ]
                }
            ],
            "source": [
                "delta_e_total_wr_w6=e1*out_o1*(1-out_o1)*out_h2\n",
                "delta_e_total_wr_w7=e2*out_o2*(1-out_o2)*out_h1\n",
                "delta_e_total_wr_w8=e2*out_o2*(1-out_o2)*out_h2\n",
                "\n",
                "print(delta_e_total_wr_w6,delta_e_total_wr_w7,delta_e_total_wr_w8)"
            ]
        },
        {
            "cell_type": "markdown",
            "metadata": {
                "colab_type": "text",
                "id": "DVJeHvCAfTwY"
            },
            "source": [
                "## 3.2 Actualizando los parámetros de la capa de salida usando los gradientes estimados.\n",
                "\n",
                "### Conociendo el gradiente (matriz de todas las derivadas parciales) ahora podemos calcular los nuevos pesos siguiendo la lógica del gradiente descendiente (me muevo en la dirección opuesta para minimizar el error).\n",
                "### por ejemplo para actualizar el parametro w5:\n",
                "![texto alternativo](https://s0.wp.com/latex.php?latex=w_5%5E%7B%2B%7D+%3D+w_5+-+%5Ceta+%2A+%5Cfrac%7B%5Cpartial+E_%7Btotal%7D%7D%7B%5Cpartial+w_%7B5%7D%7D+%3D+0.4+-+0.5+%2A+0.082167041+%3D+0.35891648&bg=ffffff&fg=404040&s=0&zoom=2) Ecuación 8.\n",
                "\n",
                "### n representa a la letra griega \"eta\" y se conoce como la tasa de aprendizaje o \"learning rate\", en este caso eta=0.5"
            ]
        },
        {
            "cell_type": "code",
            "execution_count": 16,
            "metadata": {
                "colab": {
                    "base_uri": "https://localhost:8080/",
                    "height": 34
                },
                "colab_type": "code",
                "id": "995fI6kjd7gf",
                "outputId": "e4bef0b1-b668-41d8-807e-a59875d57b17"
            },
            "outputs": [
                {
                    "name": "stdout",
                    "output_type": "stream",
                    "text": [
                        "0.35891647971788465\n"
                    ]
                }
            ],
            "source": [
                "#numericamente\n",
                "eta=0.5\n",
                "w5_new=w5-eta*delta_e_total_wr_w5\n",
                "print(w5_new)"
            ]
        },
        {
            "cell_type": "code",
            "execution_count": 17,
            "metadata": {
                "colab": {
                    "base_uri": "https://localhost:8080/",
                    "height": 34
                },
                "colab_type": "code",
                "id": "2ntFIiSpgTno",
                "outputId": "f2dcdfda-7b27-446f-96a5-1c4b24d24a46"
            },
            "outputs": [
                {
                    "name": "stdout",
                    "output_type": "stream",
                    "text": [
                        "0.4086661860762334 0.5113012702387375 0.5613701211079891\n"
                    ]
                }
            ],
            "source": [
                "#equivalentemente para los otros parámetros:\n",
                "w6_new=w6-eta*delta_e_total_wr_w6\n",
                "w7_new=w7-eta*delta_e_total_wr_w7\n",
                "w8_new=w8-eta*delta_e_total_wr_w8\n",
                "\n",
                "print(w6_new,w7_new,w8_new)"
            ]
        },
        {
            "cell_type": "markdown",
            "metadata": {
                "colab_type": "text",
                "id": "BHbwXXIBk28i"
            },
            "source": [
                "\n",
                "\n",
                "---\n",
                "\n",
                "\n",
                "## 4. Siguiente paso: ¿Cómo actualizar los parámetros de la capa oculta?\n",
                "### Procedamos ahora a discutir como podemos estimar el efecto de los parámetros que están más \"escondidos\" en la red, es decir, aquellos que no se encuentran directamente conectados a las salidas.\n",
                "### Por ejemplo, ¿cómo podemos estimar cúanto afecta el parametro w1 al error total y así, poder optimizarlo en la próxima iteración?\n",
                "\n",
                "\n",
                "#### visualmente:\n",
                "![texto alternativo](https://drive.google.com/uc?id=1wlVYusuLRoSmZ-JEwZdjOfN4M532rVSo) Figura 4."
            ]
        },
        {
            "cell_type": "markdown",
            "metadata": {
                "colab_type": "text",
                "id": "Uj7iyEn3sYge"
            },
            "source": [
                "### Una vez más ocuparemos el truco del encadenamiento de efectos, o \"regla de la cadena\".\n",
                "### En la figura anterior podemos ver la cadena de eventos que nos interesa. El error Total depende de la salida de las neuronas o1 y o2. Éstas a su vez dependen del output de la neurona h1. Este ouput depende del valor antes de la activación, es decir, del valor neto. Finalmente, este valor neto depende de w1.\n",
                "\n",
                "### Matemáticamente podemos mostrar esta relación cómo:\n",
                "\n",
                "![texto alternativo](https://s0.wp.com/latex.php?latex=%5Cfrac%7B%5Cpartial+E_%7Btotal%7D%7D%7B%5Cpartial+w_%7B1%7D%7D+%3D+%5Cfrac%7B%5Cpartial+E_%7Btotal%7D%7D%7B%5Cpartial+out_%7Bh1%7D%7D+%2A+%5Cfrac%7B%5Cpartial+out_%7Bh1%7D%7D%7B%5Cpartial+net_%7Bh1%7D%7D+%2A+%5Cfrac%7B%5Cpartial+net_%7Bh1%7D%7D%7B%5Cpartial+w_%7B1%7D%7D&bg=ffffff&fg=404040&s=0&zoom=2) Ecuación 9.\n",
                "\n",
                "### La Ecuación 9 es clave para contestar nuestra pregunta, pero note que está compuesta por 3 componentes principales. Además, cada uno de estos componentes estará \"encadenado\" a los resultados de las capas posteriores, es decir, tendrá sub-componentes propios que tendremos que ir estimando cuidadosamente.\n",
                "\n",
                "\n",
                "### Así, el primer término de la Ecuación 9, puede a su vez ser descompuesto en 2 sub-componentes, las partes que corresponden a cada uno de los errores (Ecuación 10):\n",
                "\n",
                "![texto alternativo](https://s0.wp.com/latex.php?latex=%5Cfrac%7B%5Cpartial+E_%7Btotal%7D%7D%7B%5Cpartial+out_%7Bh1%7D%7D+%3D+%5Cfrac%7B%5Cpartial+E_%7Bo1%7D%7D%7B%5Cpartial+out_%7Bh1%7D%7D+%2B+%5Cfrac%7B%5Cpartial+E_%7Bo2%7D%7D%7B%5Cpartial+out_%7Bh1%7D%7D&bg=ffffff&fg=404040&s=0&zoom=2) Ecuación 10.\n",
                "\n"
            ]
        },
        {
            "cell_type": "markdown",
            "metadata": {
                "colab_type": "text",
                "id": "BV9eTLcntV2S"
            },
            "source": [
                "### 4.1 Podemos estimar ahora el primer término:\n",
                "\n",
                "![texto alternativo](https://s0.wp.com/latex.php?latex=%5Cfrac%7B%5Cpartial+E_%7Bo1%7D%7D%7B%5Cpartial+out_%7Bh1%7D%7D+%3D+%5Cfrac%7B%5Cpartial+E_%7Bo1%7D%7D%7B%5Cpartial+net_%7Bo1%7D%7D+%2A+%5Cfrac%7B%5Cpartial+net_%7Bo1%7D%7D%7B%5Cpartial+out_%7Bh1%7D%7D&bg=ffffff&fg=404040&s=0&zoom=2) Ecuacion 11.\n",
                "\n",
                "### 4.1.1 Respecto del primer componente, ya conocemos su estructura y valores númericos:\n",
                "\n",
                "![texto alternativo](https://s0.wp.com/latex.php?latex=%5Cfrac%7B%5Cpartial+E_%7Bo1%7D%7D%7B%5Cpartial+out_%7Bh1%7D%7D&bg=ffffff&fg=404040&s=0&zoom=2) Ecuación 12.\n",
                "\n",
                "![texto alternativo](https://s0.wp.com/latex.php?latex=%5Cfrac%7B%5Cpartial+E_%7Bo1%7D%7D%7B%5Cpartial+net_%7Bo1%7D%7D+%3D+%5Cfrac%7B%5Cpartial+E_%7Bo1%7D%7D%7B%5Cpartial+out_%7Bo1%7D%7D+%2A+%5Cfrac%7B%5Cpartial+out_%7Bo1%7D%7D%7B%5Cpartial+net_%7Bo1%7D%7D+%3D+0.74136507+%2A+0.186815602+%3D+0.138498562&bg=ffffff&fg=404040&s=0&zoom=2) Ecuación 13"
            ]
        },
        {
            "cell_type": "code",
            "execution_count": 18,
            "metadata": {
                "colab": {
                    "base_uri": "https://localhost:8080/",
                    "height": 34
                },
                "colab_type": "code",
                "id": "qcOPWZbBtq7a",
                "outputId": "02259850-e7a3-453c-ccaf-db0dd9aaa157"
            },
            "outputs": [
                {
                    "name": "stdout",
                    "output_type": "stream",
                    "text": [
                        "0.7413650695523157\n"
                    ]
                }
            ],
            "source": [
                "delta_e_o1_wr_delta_out_o1=-(o1-out_o1)\n",
                "print(delta_e_o1_wr_delta_out_o1)"
            ]
        },
        {
            "cell_type": "code",
            "execution_count": 19,
            "metadata": {
                "colab": {
                    "base_uri": "https://localhost:8080/",
                    "height": 34
                },
                "colab_type": "code",
                "id": "gdPl7Wyvt4Ae",
                "outputId": "a066527e-b6d7-4ab8-ae28-dd2f9e4a239f"
            },
            "outputs": [
                {
                    "name": "stdout",
                    "output_type": "stream",
                    "text": [
                        "0.18681560180895948\n"
                    ]
                }
            ],
            "source": [
                "delta_o1_wr_net_o1=out_o1*(1-out_o1)\n",
                "print(delta_o1_wr_net_o1)"
            ]
        },
        {
            "cell_type": "code",
            "execution_count": 20,
            "metadata": {
                "colab": {
                    "base_uri": "https://localhost:8080/",
                    "height": 34
                },
                "colab_type": "code",
                "id": "MRO-KYP51BV2",
                "outputId": "f6ddbdb0-e39f-46a0-8408-62d1b4901b57"
            },
            "outputs": [
                {
                    "name": "stdout",
                    "output_type": "stream",
                    "text": [
                        "0.13849856162855698\n"
                    ]
                }
            ],
            "source": [
                "# valor estimado:\n",
                "delta_eo1_wr_net_o1=delta_e_o1_wr_delta_out_o1*delta_o1_wr_net_o1\n",
                "print(delta_eo1_wr_net_o1)"
            ]
        },
        {
            "cell_type": "markdown",
            "metadata": {
                "colab_type": "text",
                "id": "A_GkK42d8JZy"
            },
            "source": [
                "### 4.1.2 Respecto del segundo componente:\n",
                "\n",
                "![texto alternativo](https://s0.wp.com/latex.php?latex=%5Cfrac%7B%5Cpartial+net_%7Bo1%7D%7D%7B%5Cpartial+out_%7Bh1%7D%7D&bg=ffffff&fg=404040&s=0&zoom=2) Ecuación 14.\n",
                "\n",
                "### Podemos estimar esta derivada cómo:\n",
                "\n",
                "![texto alternativo](https://s0.wp.com/latex.php?latex=net_%7Bo1%7D+%3D+w_5+%2A+out_%7Bh1%7D+%2B+w_6+%2A+out_%7Bh2%7D+%2B+b_2+%2A+1&bg=ffffff&fg=404040&s=0&zoom=2) Ecuación 15.\n",
                "\n",
                "### Lo que nos da como resultado simplemente w5:\n",
                "\n",
                "![texto alternativo](https://s0.wp.com/latex.php?latex=%5Cfrac%7B%5Cpartial+net_%7Bo1%7D%7D%7B%5Cpartial+out_%7Bh1%7D%7D+%3D+w_5+%3D+0.40&bg=ffffff&fg=404040&s=0&zoom=2) Ecuación 16.\n",
                "\n"
            ]
        },
        {
            "cell_type": "code",
            "execution_count": 21,
            "metadata": {
                "colab": {
                    "base_uri": "https://localhost:8080/",
                    "height": 34
                },
                "colab_type": "code",
                "id": "9PjbgjHB8JAw",
                "outputId": "acf38ad4-48ee-4c24-b0a5-de0cad529b82"
            },
            "outputs": [
                {
                    "name": "stdout",
                    "output_type": "stream",
                    "text": [
                        "0.4\n"
                    ]
                }
            ],
            "source": [
                "delta_net_o1_wr_out_h1=w5\n",
                "print(delta_net_o1_wr_out_h1)"
            ]
        },
        {
            "cell_type": "markdown",
            "metadata": {
                "colab_type": "text",
                "id": "ub9m3r0D9F0h"
            },
            "source": [
                "### Como ya tenemos todos los componentes podemos estimar el primer término de la ecuación 10:\n",
                "\n",
                "![texto alternativo](https://s0.wp.com/latex.php?latex=%5Cfrac%7B%5Cpartial+E_%7Bo1%7D%7D%7B%5Cpartial+out_%7Bh1%7D%7D+%3D+%5Cfrac%7B%5Cpartial+E_%7Bo1%7D%7D%7B%5Cpartial+net_%7Bo1%7D%7D+%2A+%5Cfrac%7B%5Cpartial+net_%7Bo1%7D%7D%7B%5Cpartial+out_%7Bh1%7D%7D+%3D+0.138498562+%2A+0.40+%3D+0.055399425&bg=ffffff&fg=404040&s=0&zoom=2)"
            ]
        },
        {
            "cell_type": "code",
            "execution_count": 22,
            "metadata": {
                "colab": {
                    "base_uri": "https://localhost:8080/",
                    "height": 34
                },
                "colab_type": "code",
                "id": "EDOPme4Q7208",
                "outputId": "4ab579c5-8772-4e48-9390-c11498edc074"
            },
            "outputs": [
                {
                    "name": "stdout",
                    "output_type": "stream",
                    "text": [
                        "0.05539942465142279\n"
                    ]
                }
            ],
            "source": [
                "delta_e_o1_wr_out_h1=delta_eo1_wr_net_o1*delta_net_o1_wr_out_h1\n",
                "print(delta_e_o1_wr_out_h1)"
            ]
        },
        {
            "cell_type": "markdown",
            "metadata": {
                "colab_type": "text",
                "id": "iizbBMJT9mef"
            },
            "source": [
                "### 4.2 Podemos replicar ahora esta lógica para estimar el segundo término de la ecuación 10:\n",
                "\n",
                "![texto alternativo](https://s0.wp.com/latex.php?latex=%5Cfrac%7B%5Cpartial+E_%7Bo2%7D%7D%7B%5Cpartial+out_%7Bh1%7D%7D&bg=ffffff&fg=404040&s=0&zoom=2)\n",
                "\n",
                "![texto alternativo](https://s0.wp.com/latex.php?latex=%5Cfrac%7B%5Cpartial+E_%7Bo2%7D%7D%7B%5Cpartial+out_%7Bh1%7D%7D+%3D+-0.019049119&bg=ffffff&fg=404040&s=0&zoom=2)\n",
                "\n"
            ]
        },
        {
            "cell_type": "code",
            "execution_count": 23,
            "metadata": {
                "colab": {
                    "base_uri": "https://localhost:8080/",
                    "height": 185
                },
                "colab_type": "code",
                "id": "V97cvKugUAx1",
                "outputId": "2f1689b1-7779-4cc4-e5cf-1a96c1559d68"
            },
            "outputs": [
                {
                    "name": "stdout",
                    "output_type": "stream",
                    "text": [
                        "delta_e_o2_wr_delta_out_o2\n",
                        "-0.21707153467853746\n",
                        "delta_o2_wr_net_o2\n",
                        "0.17551005281727122\n",
                        "delta_eo2_wr_net_o2\n",
                        "-0.03809823651655623\n",
                        "delta_net_o2_wr_out_h1\n",
                        "0.5\n",
                        "delta_e_o2_wr_out_h1\n",
                        "-0.019049118258278114\n"
                    ]
                }
            ],
            "source": [
                "# Estimando el segundo componente de la ecuación 10:\n",
                "delta_e_o2_wr_delta_out_o2=-(o2-out_o2)\n",
                "print(\"delta_e_o2_wr_delta_out_o2\")\n",
                "print(delta_e_o2_wr_delta_out_o2)\n",
                "\n",
                "\n",
                "delta_o2_wr_net_o2=out_o2*(1-out_o2)\n",
                "print(\"delta_o2_wr_net_o2\")\n",
                "print(delta_o2_wr_net_o2)\n",
                "\n",
                "\n",
                "delta_eo2_wr_net_o2=delta_e_o2_wr_delta_out_o2*delta_o2_wr_net_o2\n",
                "print(\"delta_eo2_wr_net_o2\")\n",
                "\n",
                "print(delta_eo2_wr_net_o2)\n",
                "\n",
                "delta_net_o2_wr_out_h1=w7  # notar que en este caso la derivada nos da w7\n",
                "print(\"delta_net_o2_wr_out_h1\")\n",
                "\n",
                "print(delta_net_o2_wr_out_h1)\n",
                "\n",
                "delta_e_o2_wr_out_h1=delta_eo2_wr_net_o2*delta_net_o2_wr_out_h1\n",
                "print(\"delta_e_o2_wr_out_h1\")\n",
                "print(delta_e_o2_wr_out_h1)"
            ]
        },
        {
            "cell_type": "markdown",
            "metadata": {
                "colab_type": "text",
                "id": "NNCulhUWd324"
            },
            "source": [
                "### El resultado de la ecuación 10 es:\n",
                "\n",
                "![texto alternativo](https://s0.wp.com/latex.php?latex=%5Cfrac%7B%5Cpartial+E_%7Btotal%7D%7D%7B%5Cpartial+out_%7Bh1%7D%7D+%3D+%5Cfrac%7B%5Cpartial+E_%7Bo1%7D%7D%7B%5Cpartial+out_%7Bh1%7D%7D+%2B+%5Cfrac%7B%5Cpartial+E_%7Bo2%7D%7D%7B%5Cpartial+out_%7Bh1%7D%7D+%3D+0.055399425+%2B+-0.019049119+%3D+0.036350306&bg=ffffff&fg=404040&s=0&zoom=2)"
            ]
        },
        {
            "cell_type": "code",
            "execution_count": 24,
            "metadata": {
                "colab": {
                    "base_uri": "https://localhost:8080/",
                    "height": 50
                },
                "colab_type": "code",
                "id": "na-LSlMWd-An",
                "outputId": "d6ba955e-6007-4856-fb8e-8c6c50bd6286"
            },
            "outputs": [
                {
                    "name": "stdout",
                    "output_type": "stream",
                    "text": [
                        "delta_e_total_delta_out_h1\n",
                        "0.03635030639314468\n"
                    ]
                }
            ],
            "source": [
                "# El resultado de la ecuación 10 es:\n",
                "\n",
                "delta_e_total_delta_out_h1=delta_e_o1_wr_out_h1+delta_e_o2_wr_out_h1\n",
                "print(\"delta_e_total_delta_out_h1\")\n",
                "print(delta_e_total_delta_out_h1)\n"
            ]
        },
        {
            "cell_type": "markdown",
            "metadata": {
                "colab_type": "text",
                "id": "lQrLufp_g0nv"
            },
            "source": [
                "### 4.5 Cálculo final del gradiente.\n",
                "\n",
                "### Recordando, la ecuación 10, representa sólo el primer componente de la ecuación 9, la que finalmente nos dará el efecto total del parámetro w1 en el error total:\n",
                "\n",
                "\n",
                "![texto alternativo](https://s0.wp.com/latex.php?latex=%5Cfrac%7B%5Cpartial+E_%7Btotal%7D%7D%7B%5Cpartial+w_%7B1%7D%7D+%3D+%5Cfrac%7B%5Cpartial+E_%7Btotal%7D%7D%7B%5Cpartial+out_%7Bh1%7D%7D+%2A+%5Cfrac%7B%5Cpartial+out_%7Bh1%7D%7D%7B%5Cpartial+net_%7Bh1%7D%7D+%2A+%5Cfrac%7B%5Cpartial+net_%7Bh1%7D%7D%7B%5Cpartial+w_%7B1%7D%7D&bg=ffffff&fg=404040&s=0&zoom=2) Ecuación 9.\n",
                "\n",
                "### Ahora estimaremos los otros dos componentes de la Ecuacipón 9, siguiendo la lógica que ocupamos en la sección anterior:\n",
                "### Para el componente:\n",
                "\n",
                "![texto alternativo](https://s0.wp.com/latex.php?latex=%5Cfrac%7B%5Cpartial+out_%7Bh1%7D%7D%7B%5Cpartial+net_%7Bh1%7D%7D&bg=ffffff&fg=404040&s=0&zoom=2)\n",
                "\n",
                "### sabemos que \n",
                "\n",
                "![texto alternativo](https://s0.wp.com/latex.php?latex=out_%7Bh1%7D+%3D+%5Cfrac%7B1%7D%7B1%2Be%5E%7B-net_%7Bh1%7D%7D%7D&bg=ffffff&fg=404040&s=0&zoom=2)\n",
                "\n",
                "### y que su derivada respecto de la entrada neta es:\n",
                "\n",
                "![texto alternativo](https://s0.wp.com/latex.php?latex=%5Cfrac%7B%5Cpartial+out_%7Bh1%7D%7D%7B%5Cpartial+net_%7Bh1%7D%7D+%3D+out_%7Bh1%7D%281+-+out_%7Bh1%7D%29+%3D+0.59326999%281+-+0.59326999+%29+%3D+0.241300709&bg=ffffff&fg=404040&s=0&zoom=2)\n",
                "\n"
            ]
        },
        {
            "cell_type": "code",
            "execution_count": 25,
            "metadata": {
                "colab": {
                    "base_uri": "https://localhost:8080/",
                    "height": 50
                },
                "colab_type": "code",
                "id": "4I2a2WVih01_",
                "outputId": "908478e8-798c-4d1b-d4a2-19870dd1f922"
            },
            "outputs": [
                {
                    "name": "stdout",
                    "output_type": "stream",
                    "text": [
                        "delta_out_h1_wr_delta_net_h1\n",
                        "0.24130070857232525\n"
                    ]
                }
            ],
            "source": [
                "delta_out_h1_wr_delta_net_h1=out_h1*(1-out_h1)\n",
                "print(\"delta_out_h1_wr_delta_net_h1\")\n",
                "print(delta_out_h1_wr_delta_net_h1)"
            ]
        },
        {
            "cell_type": "markdown",
            "metadata": {
                "colab_type": "text",
                "id": "_rmBR3fxiC_y"
            },
            "source": [
                "### Para el componente:\n",
                "![texto alternativo](https://s0.wp.com/latex.php?latex=%5Cfrac%7B%5Cpartial+net_%7Bh1%7D%7D%7B%5Cpartial+w%7D&bg=ffffff&fg=404040&s=0&zoom=2)\n",
                "\n",
                "### calculamos la derivada del valor con respecto al w correspondiente, en este caso w1:\n",
                "\n",
                "![texto alternativo](https://s0.wp.com/latex.php?latex=net_%7Bh1%7D+%3D+w_1+%2A+i_1+%2B+w_3+%2A+i_2+%2B+b_1+%2A+1&bg=ffffff&fg=404040&s=0&zoom=2)\n",
                "\n",
                "![texto alternativo](https://s0.wp.com/latex.php?latex=%5Cfrac%7B%5Cpartial+net_%7Bh1%7D%7D%7B%5Cpartial+w_1%7D+%3D+i_1+%3D+0.05&bg=ffffff&fg=404040&s=0&zoom=2)"
            ]
        },
        {
            "cell_type": "code",
            "execution_count": 26,
            "metadata": {
                "colab": {
                    "base_uri": "https://localhost:8080/",
                    "height": 50
                },
                "colab_type": "code",
                "id": "Lt57i7Byisob",
                "outputId": "7669a013-6f0f-4169-a21d-ab2babd4285b"
            },
            "outputs": [
                {
                    "name": "stdout",
                    "output_type": "stream",
                    "text": [
                        "delta_net_h1_wr_w1\n",
                        "0.05\n"
                    ]
                }
            ],
            "source": [
                "delta_net_h1_wr_w1=i1\n",
                "print(\"delta_net_h1_wr_w1\")\n",
                "print(delta_net_h1_wr_w1)"
            ]
        },
        {
            "cell_type": "markdown",
            "metadata": {
                "colab_type": "text",
                "id": "HuR0fWOHi2e-"
            },
            "source": [
                "### Ahora ya contamos con todos los componentes de la Ecuación 9:\n",
                "\n",
                "![texto alternativo](https://s0.wp.com/latex.php?latex=%5Cfrac%7B%5Cpartial+E_%7Btotal%7D%7D%7B%5Cpartial+w_%7B1%7D%7D+%3D+%5Cfrac%7B%5Cpartial+E_%7Btotal%7D%7D%7B%5Cpartial+out_%7Bh1%7D%7D+%2A+%5Cfrac%7B%5Cpartial+out_%7Bh1%7D%7D%7B%5Cpartial+net_%7Bh1%7D%7D+%2A+%5Cfrac%7B%5Cpartial+net_%7Bh1%7D%7D%7B%5Cpartial+w_%7B1%7D%7D&bg=ffffff&fg=404040&s=0&zoom=2)\n",
                "\n",
                "![texto alternativo](https://s0.wp.com/latex.php?latex=%5Cfrac%7B%5Cpartial+E_%7Btotal%7D%7D%7B%5Cpartial+w_%7B1%7D%7D+%3D+0.036350306+%2A+0.241300709+%2A+0.05+%3D+0.000438568&bg=ffffff&fg=404040&s=0&zoom=2)"
            ]
        },
        {
            "cell_type": "code",
            "execution_count": 27,
            "metadata": {
                "colab": {
                    "base_uri": "https://localhost:8080/",
                    "height": 50
                },
                "colab_type": "code",
                "id": "GYRE_0MgjE9w",
                "outputId": "7063114e-0d91-45d9-b94c-1ebbbba828bf"
            },
            "outputs": [
                {
                    "name": "stdout",
                    "output_type": "stream",
                    "text": [
                        "delta_e_total_wr_delta_w1\n",
                        "0.00043856773447434685\n"
                    ]
                }
            ],
            "source": [
                "delta_e_total_wr_delta_w1=delta_e_total_delta_out_h1*delta_out_h1_wr_delta_net_h1*delta_net_h1_wr_w1\n",
                "print(\"delta_e_total_wr_delta_w1\")\n",
                "print(delta_e_total_wr_delta_w1)\n"
            ]
        },
        {
            "cell_type": "markdown",
            "metadata": {
                "colab_type": "text",
                "id": "LOsNs5qVfXmy"
            },
            "source": [
                "### 4.6 Actualizando los parámetros de la capa oculta\n",
                "#### Cómo ya hemos estimado la derivada del error total respecto de w1 (Ecuación 9), podemos ocupar este gradiente para actualizar el parámetro hacía uno que disminuya el error. El nuevo valor del parámetro w1 será:\n",
                "\n",
                "![texto alternativo](https://s0.wp.com/latex.php?latex=w_1%5E%7B%2B%7D+%3D+w_1+-+%5Ceta+%2A+%5Cfrac%7B%5Cpartial+E_%7Btotal%7D%7D%7B%5Cpartial+w_%7B1%7D%7D+%3D+0.15+-+0.5+%2A+0.000438568+%3D+0.149780716&bg=ffffff&fg=404040&s=0&zoom=2)"
            ]
        },
        {
            "cell_type": "code",
            "execution_count": 28,
            "metadata": {
                "colab": {
                    "base_uri": "https://localhost:8080/",
                    "height": 50
                },
                "colab_type": "code",
                "id": "nFIe6dOWf5V1",
                "outputId": "a8e98a16-5886-4e89-c3bf-9965e3ff8ba0"
            },
            "outputs": [
                {
                    "name": "stdout",
                    "output_type": "stream",
                    "text": [
                        "w1_new\n",
                        "0.1497807161327628\n"
                    ]
                }
            ],
            "source": [
                "w1_new=w1-eta*delta_e_total_wr_delta_w1\n",
                "print(\"w1_new\")\n",
                "print(w1_new)\n"
            ]
        },
        {
            "cell_type": "markdown",
            "metadata": {
                "colab_type": "text",
                "id": "M-zn5mwBjuOH"
            },
            "source": [
                "### Repetiendo este procedimiento para w2, w3, y w4 obtendriamos:\n",
                "\n",
                "![texto alternativo](https://s0.wp.com/latex.php?latex=w_2%5E%7B%2B%7D+%3D+0.19956143&bg=ffffff&fg=404040&s=0&zoom=2)\n",
                "\n",
                "![texto alternativo](https://s0.wp.com/latex.php?latex=w_3%5E%7B%2B%7D+%3D+0.24975114&bg=ffffff&fg=404040&s=0&zoom=2)\n",
                "\n",
                "![texto alternativo](https://s0.wp.com/latex.php?latex=w_4%5E%7B%2B%7D+%3D+0.29950229&bg=ffffff&fg=404040&s=0&zoom=2)\n",
                "\n"
            ]
        },
        {
            "cell_type": "markdown",
            "metadata": {
                "colab_type": "text",
                "id": "MDZSYBpMkcB2"
            },
            "source": [
                "## ** Ejercicio propuesto. Verifique que los nuevos valores de w2, w3, y w4 son los indicados en la celda anterior.**"
            ]
        },
        {
            "cell_type": "markdown",
            "metadata": {
                "colab_type": "text",
                "id": "mSxrwcFwkkIZ"
            },
            "source": [
                "## 5. Nueva iteración usando los parámetros actualizados.\n",
                "### Si ahora ocupamos los nuevos valores de los parámetros obtendremos:\n"
            ]
        },
        {
            "cell_type": "code",
            "execution_count": 29,
            "metadata": {
                "colab": {
                    "base_uri": "https://localhost:8080/",
                    "height": 50
                },
                "colab_type": "code",
                "id": "b_VZtZ6Ojtqh",
                "outputId": "11cfa742-c826-4358-a626-139dd66faac3"
            },
            "outputs": [
                {
                    "name": "stdout",
                    "output_type": "stream",
                    "text": [
                        "net_h1=0.37744517880663814\n",
                        "net_h2=0.392437786\n"
                    ]
                }
            ],
            "source": [
                "# Propagando los datos hacia adelante ->\n",
                "\n",
                "# Calculamos los valores netos de la neuronas de la capa oculta (netos, es decir, antes de aplicarles la función de activación logística)\n",
                "# podemos ver que es solo una suma ponderada de los inputs a los que se les suma un término constante o \"bias\":\n",
                "\n",
                "w1=w1_new\n",
                "w2=0.19956143\n",
                "w3=0.24975114\n",
                "w4=0.29950229\n",
                "w5=w5_new\n",
                "w6=w6_new\n",
                "w7=w8_new\n",
                "\n",
                "net_h1=i1*w1+i2*w2+b1\n",
                "net_h2=i1*w3+i2*w4+b1\n",
                "\n",
                "print('net_h1='+ str(net_h1))\n",
                "print('net_h2='+str(net_h2))"
            ]
        },
        {
            "cell_type": "code",
            "execution_count": 30,
            "metadata": {
                "colab": {
                    "base_uri": "https://localhost:8080/",
                    "height": 50
                },
                "colab_type": "code",
                "id": "K6920h393AL3",
                "outputId": "cd482a37-da2e-47f6-ef89-6bbdc1a79820"
            },
            "outputs": [
                {
                    "name": "stdout",
                    "output_type": "stream",
                    "text": [
                        "out_h1=0.5932567636467482\n",
                        "out_h2=0.5968694086464008\n"
                    ]
                }
            ],
            "source": [
                "# necesitamos aplicar la función de activación logística (u otra).\n",
                "\n",
                "# ahora la aplico a cada una de las neuronas de la capa oculta\n",
                "\n",
                "out_h1=logistic_func(net_h1)\n",
                "out_h2=logistic_func(net_h2)\n",
                "\n",
                "print('out_h1='+ str(out_h1))\n",
                "print('out_h2='+ str(out_h2))\n"
            ]
        },
        {
            "cell_type": "code",
            "execution_count": 31,
            "metadata": {
                "colab": {
                    "base_uri": "https://localhost:8080/",
                    "height": 50
                },
                "colab_type": "code",
                "id": "ZUogfuCpnNMr",
                "outputId": "7fa31235-2c1c-4707-fa86-be243bc321c1"
            },
            "outputs": [
                {
                    "name": "stdout",
                    "output_type": "stream",
                    "text": [
                        "net_o1=1.0568499739940174\n",
                        "net_o2=1.2613147960120292\n"
                    ]
                }
            ],
            "source": [
                "# calculamos el valor neto ocupando los pesos respectivos. notar que el input de las neuronas de la capa de salida o1 y o2, \n",
                "#es el output de las neuronas de la capa oculta\n",
                "\n",
                "net_o1=out_h1*w5+out_h2*w6+b2\n",
                "net_o2=out_h1*w7+out_h2*w8+b2\n",
                "\n",
                "print('net_o1='+ str(net_o1))\n",
                "print('net_o2='+ str(net_o2))"
            ]
        },
        {
            "cell_type": "code",
            "execution_count": 32,
            "metadata": {
                "colab": {
                    "base_uri": "https://localhost:8080/",
                    "height": 50
                },
                "colab_type": "code",
                "id": "-z7tFkvIloNd",
                "outputId": "16ab251f-7abc-4528-9909-8a1eb2e532f5"
            },
            "outputs": [
                {
                    "name": "stdout",
                    "output_type": "stream",
                    "text": [
                        "out_o1=0.7420881111887568\n",
                        "out_o2=0.7792523595555513\n"
                    ]
                }
            ],
            "source": [
                "# nuevamente, a estos valores netos le aplicamos la función de activación Ecuación 1.\n",
                "out_o1=logistic_func(net_o1)\n",
                "out_o2=logistic_func(net_o2)\n",
                "\n",
                "print('out_o1='+ str(out_o1))\n",
                "print('out_o2='+ str(out_o2))"
            ]
        },
        {
            "cell_type": "code",
            "execution_count": 33,
            "metadata": {
                "colab": {
                    "base_uri": "https://localhost:8080/",
                    "height": 34
                },
                "colab_type": "code",
                "id": "VtOXuv1KnWKo",
                "outputId": "e044f5bb-00c5-466d-b560-fa5310ca78f8"
            },
            "outputs": [
                {
                    "name": "stdout",
                    "output_type": "stream",
                    "text": [
                        "0.7320881111887568 -0.21074764044444871\n"
                    ]
                }
            ],
            "source": [
                "# Calculamos los errores\n",
                "\n",
                "e1=out_o1-o1\n",
                "e2=out_o2-o2\n",
                "\n",
                "print(e1,e2)"
            ]
        },
        {
            "cell_type": "code",
            "execution_count": 34,
            "metadata": {
                "colab": {
                    "base_uri": "https://localhost:8080/",
                    "height": 34
                },
                "colab_type": "code",
                "id": "W-tpjQ7ql2aj",
                "outputId": "31156b06-9839-440e-ab3c-a07863dbd295"
            },
            "outputs": [
                {
                    "name": "stdout",
                    "output_type": "stream",
                    "text": [
                        "0.26797650127196077 0.022207283976451317\n"
                    ]
                }
            ],
            "source": [
                "loss_e1=0.5*(e1**2)\n",
                "loss_e2=0.5*(e2**2)\n",
                "\n",
                "print(loss_e1,loss_e2)"
            ]
        },
        {
            "cell_type": "code",
            "execution_count": 36,
            "metadata": {
                "colab": {
                    "base_uri": "https://localhost:8080/",
                    "height": 34
                },
                "colab_type": "code",
                "id": "kSUAMPqyl3M1",
                "outputId": "54dcbaf5-2329-4545-a360-7f0564a020fe"
            },
            "outputs": [
                {
                    "name": "stdout",
                    "output_type": "stream",
                    "text": [
                        "0.2901837852484121\n"
                    ]
                }
            ],
            "source": [
                "total_error=loss_e1+loss_e2\n",
                "print(total_error)"
            ]
        },
        {
            "cell_type": "markdown",
            "metadata": {
                "colab_type": "text",
                "id": "ByikiypWns9Y"
            },
            "source": [
                "## Podremos notar que el error total en esta iteración (dado el eta=0.5) disminuyó considerablemente desde el valor inicial 0.298371109, a un valor de 0.2901837852484121. Si repitieramos este proceso muchas veces, lograriamos disminuir el error consistentemente, en el algunos caso incluyo llegando a Error total=0.\n",
                "\n",
                "\n"
            ]
        },
        {
            "cell_type": "markdown",
            "metadata": {
                "colab_type": "text",
                "id": "inaXWnNut1P-"
            },
            "source": [
                "## Si la red contara con muchas más capas ocultas, se seguiría repitiendo esta lógica hasta lograr optimizar todos los parámetros de la misma. La misma lógica se puede extender para optimizar también los parámetros b1 y b2 (bias o constantes).\n",
                "\n",
                "*Para redes muy grandes, o más bien, que cuenten con muchas capas ocultas secuenciales del tipo \"deep learning\" este algoritmo puede tener problemas conocidos como \"exploding or vanishing gradient\". Existen maneras de solucionar esta problemática, pero estan fuera del propósito de este artículo.*"
            ]
        }
    ],
    "metadata": {
        "colab": {
            "collapsed_sections": [],
            "include_colab_link": true,
            "name": "Blog: Cómo funciona el algoritmo de backpropagation.ipynb",
            "provenance": []
        },
        "kernelspec": {
            "display_name": "Python 3",
            "name": "python3"
        },
        "language_info": {
            "codemirror_mode": {
                "name": "ipython",
                "version": 3
            },
            "file_extension": ".py",
            "mimetype": "text/x-python",
            "name": "python",
            "nbconvert_exporter": "python",
            "pygments_lexer": "ipython3",
            "version": "3.10.12"
        }
    },
    "nbformat": 4,
    "nbformat_minor": 0
}
