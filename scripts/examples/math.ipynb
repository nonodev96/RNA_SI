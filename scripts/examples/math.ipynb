{
 "cells": [
  {
   "cell_type": "markdown",
   "metadata": {},
   "source": [
    "$$\n",
    "\\underset{x \\in [x_{0}, x_{1}]}{\\min} (f(x)) = d ~ \\text{s.t.} ~ f(d) \\leq f(x) \\forall x \\in [x_{0},x_{1}]\n",
    "$$"
   ]
  },
  {
   "cell_type": "markdown",
   "metadata": {},
   "source": [
    "$$\n",
    "\\underset{x \\in [x_{0}, x_{1}]}{\\max} (f(x)) = c ~ \\text{s.t.} ~ f(c) \\geq f(x) \\forall x \\in [x_{0},x_{1}]\n",
    "$$"
   ]
  },
  {
   "cell_type": "markdown",
   "metadata": {},
   "source": [
    "$$\n",
    "\\underset{x \\in [x_{0}, x_{1}]}{\\argmin} (f(x)) = l ~ \\{ l : f(l) \\leq f(x) \\forall x \\in [x_{0}, x_{1}] \\}\n",
    "$$"
   ]
  },
  {
   "cell_type": "markdown",
   "metadata": {},
   "source": [
    "$$\n",
    "\\underset{x \\in [x_{0}, x_{1}]}{\\argmax} (f(x)) = k ~ \\{ k : f(k) \\geq f(x) \\forall x \\in [x_{0}, x_{1}] \\}\n",
    "$$"
   ]
  },
  {
   "cell_type": "markdown",
   "metadata": {},
   "source": [
    "Función Gamma\n",
    "\n",
    "$$\n",
    "\\gamma(x) = \\int_{0}^{\\infty} t^{x-1} e^{-t} \\,dx ; \\forall x > 0\n",
    "$$"
   ]
  },
  {
   "cell_type": "code",
   "execution_count": 11,
   "metadata": {},
   "outputs": [],
   "source": [
    "import numpy as np\n",
    "import torch"
   ]
  },
  {
   "cell_type": "code",
   "execution_count": null,
   "metadata": {},
   "outputs": [],
   "source": [
    "v = np.array([1,40,2,-3])\n",
    "\n",
    "minval = np.min(v)\n",
    "maxval = np.max(v)\n",
    "\n",
    "argminval = np.argmin(v)\n",
    "argmaxval = np.argmax(v)\n",
    "\n",
    "print(f\"Min: {minval}, Max: {maxval}\")\n",
    "print(f\"ArgMin: {argminval}, ArgMax: {argmaxval}\")"
   ]
  },
  {
   "cell_type": "code",
   "execution_count": 13,
   "metadata": {},
   "outputs": [
    {
     "name": "stdout",
     "output_type": "stream",
     "text": [
      "Min: -20, Max: 100\n",
      "ArgMin: 6, ArgMax: 4\n",
      "ArgMin Axis_0: [0 0 1 0], ArgMax Axis_0: [1 0 0 0]\n"
     ]
    }
   ],
   "source": [
    "M = np.array([[1, 40, 2, -3], [100, 40, -20, -3]])\n",
    "\n",
    "minval = np.min(M)\n",
    "maxval = np.max(M)\n",
    "\n",
    "argminval = np.argmin(M)\n",
    "argmaxval = np.argmax(M)\n",
    "\n",
    "argminval_axis_0 = np.argmin(M, axis=0)\n",
    "argmaxval_axis_0 = np.argmax(M, axis=0)\n",
    "\n",
    "print(f\"Min: {minval}, Max: {maxval}\")\n",
    "print(f\"ArgMin: {argminval}, ArgMax: {argmaxval}\")\n",
    "print(f\"ArgMin Axis_0: {argminval_axis_0}, ArgMax Axis_0: {argmaxval_axis_0}\")"
   ]
  },
  {
   "cell_type": "code",
   "execution_count": 14,
   "metadata": {},
   "outputs": [
    {
     "name": "stdout",
     "output_type": "stream",
     "text": [
      "Min: -20, Max: 100\n",
      "ArgMin: 6, ArgMax: 4\n",
      "ArgMin Axis_0: tensor([0, 0, 1, 0]), ArgMax Axis_0: tensor([1, 0, 0, 0])\n"
     ]
    }
   ],
   "source": [
    "M = torch.tensor([[1, 40, 2, -3], [100, 40, -20, -3]])\n",
    "\n",
    "minval = torch.min(M)\n",
    "maxval = torch.max(M)\n",
    "\n",
    "argminval = torch.argmin(M)\n",
    "argmaxval = torch.argmax(M)\n",
    "\n",
    "argminval_axis_0 = torch.argmin(M, axis=0)\n",
    "argmaxval_axis_0 = torch.argmax(M, axis=0)\n",
    "\n",
    "print(f\"Min: {minval}, Max: {maxval}\")\n",
    "print(f\"ArgMin: {argminval}, ArgMax: {argmaxval}\")\n",
    "print(f\"ArgMin Axis_0: {argminval_axis_0}, ArgMax Axis_0: {argmaxval_axis_0}\")"
   ]
  }
 ],
 "metadata": {
  "kernelspec": {
   "display_name": ".venv",
   "language": "python",
   "name": "python3"
  },
  "language_info": {
   "codemirror_mode": {
    "name": "ipython",
    "version": 3
   },
   "file_extension": ".py",
   "mimetype": "text/x-python",
   "name": "python",
   "nbconvert_exporter": "python",
   "pygments_lexer": "ipython3",
   "version": "3.10.12"
  }
 },
 "nbformat": 4,
 "nbformat_minor": 2
}
