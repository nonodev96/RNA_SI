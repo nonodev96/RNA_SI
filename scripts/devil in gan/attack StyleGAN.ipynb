{
 "cells": [
  {
   "cell_type": "code",
   "execution_count": null,
   "metadata": {},
   "outputs": [],
   "source": [
    "import os\n",
    "import numpy as np\n",
    "import tensorflow as tf\n",
    "from tensorflow import keras\n",
    "from keras.models import load_model\n",
    "from keras.layers import Dense\n",
    "# import keras.backend as k\n",
    "\n",
    "from utils.styleGANtf2 import *\n",
    "from PIL import Image\n",
    "import math\n",
    "import time\n",
    "import pickle\n",
    "\n",
    "\n",
    "%matplotlib inline\n",
    "import matplotlib.pyplot as plt"
   ]
  },
  {
   "cell_type": "code",
   "execution_count": 16,
   "metadata": {},
   "outputs": [
    {
     "ename": "TypeError",
     "evalue": "load_model() missing 1 required positional argument: 'filepath'",
     "output_type": "error",
     "traceback": [
      "\u001b[0;31m---------------------------------------------------------------------------\u001b[0m",
      "\u001b[0;31mTypeError\u001b[0m                                 Traceback (most recent call last)",
      "Cell \u001b[0;32mIn[16], line 15\u001b[0m\n\u001b[1;32m      1\u001b[0m custom_objects \u001b[38;5;241m=\u001b[39m {\n\u001b[1;32m      2\u001b[0m     \u001b[38;5;124m'\u001b[39m\u001b[38;5;124mPixelNorm\u001b[39m\u001b[38;5;124m'\u001b[39m: PixelNorm, \n\u001b[1;32m      3\u001b[0m     \u001b[38;5;124m'\u001b[39m\u001b[38;5;124mBroadcast\u001b[39m\u001b[38;5;124m'\u001b[39m: Broadcast, \n\u001b[0;32m   (...)\u001b[0m\n\u001b[1;32m     13\u001b[0m     \u001b[38;5;124m'\u001b[39m\u001b[38;5;124mBranchOut\u001b[39m\u001b[38;5;124m'\u001b[39m: BranchOut\n\u001b[1;32m     14\u001b[0m }\n\u001b[0;32m---> 15\u001b[0m styleGAN \u001b[38;5;241m=\u001b[39m \u001b[43mload_model\u001b[49m\u001b[43m(\u001b[49m\u001b[43m)\u001b[49m\n",
      "\u001b[0;31mTypeError\u001b[0m: load_model() missing 1 required positional argument: 'filepath'"
     ]
    }
   ],
   "source": [
    "\n",
    "custom_objects = {\n",
    "    'PixelNorm': PixelNorm, \n",
    "    'Broadcast': Broadcast, \n",
    "    'Truncation': Truncation,\n",
    "    'Slice': Slice,\n",
    "    'Upscale2d': Upscale2d,\n",
    "    'Blur2d': Blur2d,\n",
    "    'LerpClip': LerpClip,\n",
    "    'StyleMod': StyleMod,\n",
    "    'ApplyNoise': ApplyNoise,\n",
    "    'ApplyBias': ApplyBias,\n",
    "    'InstanceNorm': InstanceNorm,\n",
    "    'BranchOut': BranchOut\n",
    "}\n",
    "styleGAN = load_model()"
   ]
  },
  {
   "cell_type": "code",
   "execution_count": 9,
   "metadata": {},
   "outputs": [
    {
     "ename": "NameError",
     "evalue": "name 'styleGAN' is not defined",
     "output_type": "error",
     "traceback": [
      "\u001b[0;31m---------------------------------------------------------------------------\u001b[0m",
      "\u001b[0;31mNameError\u001b[0m                                 Traceback (most recent call last)",
      "Cell \u001b[0;32mIn[9], line 3\u001b[0m\n\u001b[1;32m      1\u001b[0m cx\u001b[38;5;241m=\u001b[39m\u001b[38;5;241m0\u001b[39m; cy\u001b[38;5;241m=\u001b[39m\u001b[38;5;241m0\u001b[39m; cw\u001b[38;5;241m=\u001b[39m\u001b[38;5;241m1024\u001b[39m; ch\u001b[38;5;241m=\u001b[39m\u001b[38;5;241m1024\u001b[39m; rows\u001b[38;5;241m=\u001b[39m\u001b[38;5;241m3\u001b[39m; lods\u001b[38;5;241m=\u001b[39m[\u001b[38;5;241m0\u001b[39m,\u001b[38;5;241m1\u001b[39m,\u001b[38;5;241m2\u001b[39m,\u001b[38;5;241m2\u001b[39m,\u001b[38;5;241m3\u001b[39m,\u001b[38;5;241m3\u001b[39m]; seed\u001b[38;5;241m=\u001b[39m\u001b[38;5;241m5\u001b[39m\n\u001b[1;32m      2\u001b[0m latents \u001b[38;5;241m=\u001b[39m np\u001b[38;5;241m.\u001b[39mrandom\u001b[38;5;241m.\u001b[39mRandomState(seed)\u001b[38;5;241m.\u001b[39mrandn(\u001b[38;5;28msum\u001b[39m(rows \u001b[38;5;241m*\u001b[39m \u001b[38;5;241m2\u001b[39m\u001b[38;5;241m*\u001b[39m\u001b[38;5;241m*\u001b[39mlod \u001b[38;5;28;01mfor\u001b[39;00m lod \u001b[38;5;129;01min\u001b[39;00m lods), \u001b[38;5;241m512\u001b[39m)\n\u001b[0;32m----> 3\u001b[0m x \u001b[38;5;241m=\u001b[39m \u001b[43mstyleGAN\u001b[49m\u001b[38;5;241m.\u001b[39mpredict(latents[\u001b[38;5;241m10\u001b[39m][\u001b[38;5;28;01mNone\u001b[39;00m,\u001b[38;5;241m.\u001b[39m\u001b[38;5;241m.\u001b[39m\u001b[38;5;241m.\u001b[39m])\n\u001b[1;32m      4\u001b[0m image \u001b[38;5;241m=\u001b[39m np\u001b[38;5;241m.\u001b[39mtanh(x[\u001b[38;5;241m0\u001b[39m])\n\u001b[1;32m      5\u001b[0m image \u001b[38;5;241m=\u001b[39m (image \u001b[38;5;241m-\u001b[39m np\u001b[38;5;241m.\u001b[39mmin(image)) \u001b[38;5;241m/\u001b[39m (np\u001b[38;5;241m.\u001b[39mmax(image) \u001b[38;5;241m-\u001b[39m np\u001b[38;5;241m.\u001b[39mmin(image))\n",
      "\u001b[0;31mNameError\u001b[0m: name 'styleGAN' is not defined"
     ]
    }
   ],
   "source": [
    "cx=0; cy=0; cw=1024; ch=1024; rows=3; lods=[0,1,2,2,3,3]; seed=5\n",
    "latents = np.random.RandomState(seed).randn(sum(rows * 2**lod for lod in lods), 512)\n",
    "x = styleGAN.predict(latents[10][None,...])\n",
    "image = np.tanh(x[0])\n",
    "image = (image - np.min(image)) / (np.max(image) - np.min(image))\n",
    "plt.figure(figsize=(4,4)); plt.imshow(image); plt.axis('off'); plt.show()"
   ]
  }
 ],
 "metadata": {
  "kernelspec": {
   "display_name": ".venv",
   "language": "python",
   "name": "python3"
  },
  "language_info": {
   "codemirror_mode": {
    "name": "ipython",
    "version": 3
   },
   "file_extension": ".py",
   "mimetype": "text/x-python",
   "name": "python",
   "nbconvert_exporter": "python",
   "pygments_lexer": "ipython3",
   "version": "3.11.4"
  }
 },
 "nbformat": 4,
 "nbformat_minor": 2
}
